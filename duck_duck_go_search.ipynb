{
  "nbformat": 4,
  "nbformat_minor": 0,
  "metadata": {
    "colab": {
      "provenance": []
    },
    "kernelspec": {
      "name": "python3",
      "display_name": "Python 3"
    },
    "language_info": {
      "name": "python"
    }
  },
  "cells": [
    {
      "cell_type": "code",
      "execution_count": null,
      "metadata": {
        "id": "2qhG5FCnfgn7"
      },
      "outputs": [],
      "source": [
        "%pip install --upgrade --quiet  duckduckgo-search\n"
      ]
    },
    {
      "cell_type": "code",
      "source": [
        "from langchain_community.tools import DuckDuckGoSearchRun\n",
        "from langchain_community.utilities import DuckDuckGoSearchAPIWrapper\n",
        "from langchain_community.tools import DuckDuckGoSearchResults"
      ],
      "metadata": {
        "id": "dYl3uF0BfihY"
      },
      "execution_count": 45,
      "outputs": []
    },
    {
      "cell_type": "code",
      "source": [
        "search = DuckDuckGoSearchRun()"
      ],
      "metadata": {
        "id": "7MuC8DcbljyE"
      },
      "execution_count": 54,
      "outputs": []
    },
    {
      "cell_type": "code",
      "source": [
        "search.run(\"Prophet TB Joshua servant of God\")"
      ],
      "metadata": {
        "colab": {
          "base_uri": "https://localhost:8080/",
          "height": 143
        },
        "id": "8HQK4OokyWJv",
        "outputId": "22bd468c-7cd4-4b9c-8ba9-bbef1e5071c1"
      },
      "execution_count": 55,
      "outputs": [
        {
          "output_type": "execute_result",
          "data": {
            "text/plain": [
              "'please take time to watch this short but important message from prophet tb joshua about how to know a genuine servant of god. In multiple interviews in his own Ark of God broadcasts and on his church websites, Chi credits his success as a global megachurch leader to TB Joshua. \"If not for my mentor prophet TB Joshua, I ... First was the commemorative Sunday Service of June 4 that fell on the eve of God\\'s servant\\'s departure from this earthly plane. Later that day, people gathered at The SCOAN Prayer Mountain for a candlelight service where they took a special walk of faith around the premises where Prophet TB Joshua founded The Synagogue, Church Of All ... Welcome.This video shows you the revelation that God\\'s servant, Prophet T. B. Joshua received while preaching in a church service.The servant of God explains... THE LIFE OF GOD\\'S SERVANT PROPHET TB JOSHUA | CHURCH OF GOD\\'S LOVE | PROPHET JEFF BLESSINGS Ep20 12/04/2023FACEBOOK @ https://web.facebook.com/churchofGodslove'"
            ],
            "application/vnd.google.colaboratory.intrinsic+json": {
              "type": "string"
            }
          },
          "metadata": {},
          "execution_count": 55
        }
      ]
    },
    {
      "cell_type": "code",
      "source": [
        "search = DuckDuckGoSearchResults()"
      ],
      "metadata": {
        "id": "js5Pr78dyW7R"
      },
      "execution_count": 56,
      "outputs": []
    },
    {
      "cell_type": "code",
      "source": [
        "search.run(\"Emmanuel TV\")"
      ],
      "metadata": {
        "colab": {
          "base_uri": "https://localhost:8080/",
          "height": 143
        },
        "id": "G_a7JD0Zyqnt",
        "outputId": "ae7971f0-7f31-47d2-97b7-ba4d0e2e79ca"
      },
      "execution_count": 60,
      "outputs": [
        {
          "output_type": "execute_result",
          "data": {
            "text/plain": [
              "\"[snippet: Emmanuel TV played a key role in his rise from local pastor to global star. TB Joshua died in 2021, but his Synagogue Church of All Nations (Scoan) is now run by his wife Evelyn Joshua., title: TB Joshua exposé: YouTube deletes Emmanuel TV channel of disgraced megachurch leader, link: https://www.bbc.co.uk/news/world-africa-68142127?at_campaign=KARANGA&at_medium=RSS, date: 2024-01-31T00:00:00+00:00, source: BBC], [snippet: I don't know if you're also tired of high cable TV bills and limited channel options, but I am. Fortunately, this led me to discover several alternatives to cable TV that offer flexibility, affordability,, title: You're NOT alone! See 5 best alternatives to Cable TV, link: https://www.msn.com/en-xl/africa/nigeria/youre-not-alone-see-5-best-alternatives-to-cable-tv/ar-BB1lWJRe, date: 2024-05-07T06:31:13+00:00, source: Nigerian Tribune on MSN.com], [snippet: French President Emmanuel Macron is set to make a TV address on Wednesday after controversial new migration laws were passed. Late on Tuesday night, French lawmakers gave their final approval to a ..., title: Emmanuel Macron to make TV address after France passes tough new migration law, link: https://www.msn.com/en-us/news/world/emmanuel-macron-to-make-tv-address-after-france-passes-tough-new-migration-law/ar-AA1lMcRL, date: 2023-12-20T07:54:00+00:00, source: MSN], [snippet: Houston is seeing more film and television production, with more soundstages and increased state incentives across Texas., title: Houston as Hollywood? After decades of struggle, more films and TV may be produced here, link: https://www.houstonchronicle.com/entertainment/movies_tv/article/houston-hollywood-film-tv-production-19358831.php, date: 2024-05-05T16:00:00+00:00, source: Houston Chronicle]\""
            ],
            "application/vnd.google.colaboratory.intrinsic+json": {
              "type": "string"
            }
          },
          "metadata": {},
          "execution_count": 60
        }
      ]
    },
    {
      "cell_type": "code",
      "source": [
        "search = DuckDuckGoSearchResults(backend=\"news\")"
      ],
      "metadata": {
        "id": "qz8EeJB6yr6d"
      },
      "execution_count": 61,
      "outputs": []
    },
    {
      "cell_type": "code",
      "source": [
        "search.run(\"Donald Trump net worth\")"
      ],
      "metadata": {
        "colab": {
          "base_uri": "https://localhost:8080/",
          "height": 143
        },
        "id": "UDlW3g2yyzen",
        "outputId": "44764d25-6213-4216-a5c4-63d56f8e40ae"
      },
      "execution_count": 66,
      "outputs": [
        {
          "output_type": "execute_result",
          "data": {
            "text/plain": [
              "\"[snippet: 50% of households reported a net worth under $192,900, which means 50% reported a higher net worth. 75% of households reported a net worth under $658,900, which means 25% reported a higher net worth. 90% of households reported a net worth under $1.9 million, which means 10% reported a higher net worth., title: Here's the Income and Net Worth You Need to Reach the Top 50% of American Households, link: https://www.msn.com/en-us/money/savingandinvesting/heres-the-income-and-net-worth-you-need-to-reach-the-top-50-of-american-households/ar-BB1m5upt, date: 2024-05-09T08:45:00+00:00, source: The Motley Fool on MSN.com], [snippet: Former President Donald Trump's net worth stands at a comfortable $7.5 billion, according to Forbes' estimates., title: Trump's Net Worth Climbs $400 Million As Truth Social Shares Rebound, link: https://www.forbes.com/sites/brianbushard/2024/05/02/trumps-net-worth-climbs-400-million-as-truth-social-shares-rebound/, date: 2024-05-02T20:51:00+00:00, source: Forbes], [snippet: Former President Donald Trump is riding a net worth roller coaster as his eponymous media company stock plummets, recovers and positions itself to plummet again, according to a new analysis. And like a roller coaster rider,, title: Trump rides net worth rollercoaster with media stock that may plummet at any time: analyst, link: https://www.msn.com/en-us/money/markets/trump-rides-net-worth-rollercoaster-with-media-stock-that-may-plummet-at-any-time-analyst/ar-AA1ng7kP, date: 2024-04-18T19:20:06+00:00, source: Raw Story on MSN.com], [snippet: Trump's ownership stake in Trump Media & Technology group now stands at $5.7 billion, buoyed by a rise in the stock's price., title: Donald Trump receives earnout bonus worth $1.8 billion in DJT stock, link: https://www.msn.com/en-us/money/markets/donald-trump-is-18-billion-richer-after-getting-djt-stock-bonus/ar-AA1nXb0e, date: 2024-04-30T22:33:29+00:00, source: CBS News on MSN.com]\""
            ],
            "application/vnd.google.colaboratory.intrinsic+json": {
              "type": "string"
            }
          },
          "metadata": {},
          "execution_count": 66
        }
      ]
    },
    {
      "cell_type": "code",
      "source": [
        "wrapper = DuckDuckGoSearchAPIWrapper(region=\"de-de\", time=\"d\", max_results=2)\n",
        "search = DuckDuckGoSearchResults(api_wrapper=wrapper, source=\"news\")"
      ],
      "metadata": {
        "id": "1TfnZEqe0OvN"
      },
      "execution_count": 67,
      "outputs": []
    },
    {
      "cell_type": "code",
      "source": [
        "search.run(\"BRICS\")"
      ],
      "metadata": {
        "colab": {
          "base_uri": "https://localhost:8080/",
          "height": 250
        },
        "id": "FXihKXQg1kwU",
        "outputId": "c2a547ae-2e37-4bb4-e84a-5ff341598185"
      },
      "execution_count": 69,
      "outputs": [
        {
          "output_type": "execute_result",
          "data": {
            "text/plain": [
              "'[snippet: The BRICS+ Business Forum, a pivotal session of the 2024 AIM Congress, featured prominent leaders and experts from the BRICS nations and beyond.Chaired by Aleksandra Burman, the session provided a platform to deliberate on crucial topics concerning global economic dynamics and trade relations among ..., title: \\'BRICS+ Business Forum\\' discusses reshaping global economic landscape ..., link: https://wam.ae/en/article/b32e3lu-brics+-business-forum-discusses-reshaping-global], [snippet: Em entrevista à DW, diretora do Brics Policy Center fala sobre as diferenças e os interesses que unem regimes autoritários e antiocidentais como China e Rússia às democracias de Brasil ..., title: \"Há uma disputa de discursos dentro do Brics+\" - O POVO, link: https://www.opovo.com.br/noticias/mundo/2024/05/09/quotha-uma-disputa-de-discursos-dentro-do-brics-quot.html], [snippet: Interest in gold from BRICS countries, particularly Russia and China, has been driving the rally, with efforts to encourage other member countries to participate. Recent record highs in gold prices indicate a new range, with continued formation of higher lows suggesting increased volatility in the market. Prices have breached 2020 levels on the ..., title: BRICS: The Gold Rush Has Gripped the Union - THE INTEL DROP, link: https://www.theinteldrop.org/2024/05/09/brics-the-gold-rush-has-gripped-the-union/], [snippet: Among the many ambitious endeavors undertaken by the BRICS economic union, China and Russia have unveiled a new initiative. Reports of The Daily Mail claim that the two countries are beginning construction of a nuclear power facility destined for the moon.. This ambitious project is an important component of the joint International Lunar Research Station initiative between China and Russia., title: BRICS: Huge news from Russia and China - cryptodnes.bg, link: https://cryptodnes.bg/en/briks-huge-news-ot-rusiya-i-kitai/]'"
            ],
            "application/vnd.google.colaboratory.intrinsic+json": {
              "type": "string"
            }
          },
          "metadata": {},
          "execution_count": 69
        }
      ]
    },
    {
      "cell_type": "code",
      "source": [],
      "metadata": {
        "id": "oqMywTrR1q3w"
      },
      "execution_count": null,
      "outputs": []
    }
  ]
}